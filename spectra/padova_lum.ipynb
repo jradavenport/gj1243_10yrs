{
 "cells": [
  {
   "cell_type": "code",
   "execution_count": 1,
   "metadata": {},
   "outputs": [],
   "source": [
    "%matplotlib inline\n",
    "import numpy as np\n",
    "import pandas as pd\n",
    "import matplotlib.pyplot as plt\n",
    "import matplotlib.cm as cm\n",
    "import astropy.units as u\n",
    "from astropy.table import Table"
   ]
  },
  {
   "cell_type": "code",
   "execution_count": 2,
   "metadata": {},
   "outputs": [],
   "source": [
    "import matplotlib\n",
    "matplotlib.rcParams.update({'font.size':18})\n",
    "matplotlib.rcParams.update({'font.family':'serif'})"
   ]
  },
  {
   "cell_type": "code",
   "execution_count": 3,
   "metadata": {},
   "outputs": [],
   "source": [
    "# figure out luminosity for GJ 1243 in Kepler and TESS bands w/ Padova Isochrone (from AB mags)\n",
    "# http://simbad.u-strasbg.fr/simbad/sim-basic?Ident=GJ+1243&submit=SIMBAD+search\n",
    "\n",
    "J = 8.586\n",
    "H = 8.045\n",
    "K = 7.773\n",
    "Je = 0.023\n",
    "He = 0.020\n",
    "Ke = 0.016\n",
    "\n",
    "g =13.683\n",
    "r =12.357 \n",
    "i =11.112\n",
    "ge=0.05\n",
    "re=0.12\n",
    "ie=0.25\n",
    "\n",
    "plx=83.4814 \n",
    "plxe = 0.0366"
   ]
  },
  {
   "cell_type": "code",
   "execution_count": 4,
   "metadata": {},
   "outputs": [],
   "source": [
    "iso_file = 'output450252553987.dat' # Age = 1e9\n",
    "# iso_file = 'output118463856707.dat' # Age = 5e9\n",
    "\n",
    "df = pd.read_table(iso_file, delim_whitespace=True, skiprows=11)\n",
    "\n",
    "ok = np.where((df['label']<2) & (df['TESSmag']> 1.3))[0][::-1]"
   ]
  },
  {
   "cell_type": "code",
   "execution_count": 5,
   "metadata": {},
   "outputs": [
    {
     "name": "stdout",
     "output_type": "stream",
     "text": [
      "11.065768253968251 9.659530158730156\n"
     ]
    },
    {
     "data": {
      "text/plain": [
       "(15, -5)"
      ]
     },
     "execution_count": 5,
     "metadata": {},
     "output_type": "execute_result"
    },
    {
     "data": {
      "image/png": "[encoded data removed]",
      "text/plain": [
       "<Figure size 432x288 with 1 Axes>"
      ]
     },
     "metadata": {
      "needs_background": "light"
     },
     "output_type": "display_data"
    }
   ],
   "source": [
    "Tmag = np.interp(g-J, df['gmag'].values[ok] - df['Jmag'].values[ok], df['TESSmag'].values[ok])\n",
    "Kmag = np.interp(g-J, df['gmag'].values[ok] - df['Jmag'].values[ok], df['Keplermag'].values[ok])\n",
    "\n",
    "print(Kmag, Tmag)\n",
    "\n",
    "plt.figure()\n",
    "plt.scatter(df['gmag'].values - df['Jmag'].values, df['TESSmag'].values, alpha=0.5,s=5)\n",
    "plt.plot(df['gmag'].values[ok] - df['Jmag'].values[ok], df['TESSmag'].values[ok], c='C1')\n",
    "plt.gca().invert_yaxis()\n",
    "plt.scatter(g-J, Tmag, s=100)\n",
    "plt.xlabel('g-J')\n",
    "plt.ylabel('TESSmag')\n",
    "\n",
    "plt.ylim(15,-5)"
   ]
  },
  {
   "cell_type": "code",
   "execution_count": 6,
   "metadata": {},
   "outputs": [
    {
     "name": "stdout",
     "output_type": "stream",
     "text": [
      "logL Kepler: 30.67812439916038\n"
     ]
    }
   ],
   "source": [
    "# Kepler, AB Mags\n",
    "c = 2.99792458e18 # speed of light in A/s\n",
    "pivot_wave_k = 6400. # A\n",
    "filter_width_k = 4000. # A\n",
    "\n",
    "f_nu = (10**((Kmag + 48.6)/ (-2.5)))\n",
    "f_lambda = f_nu * c / pivot_wave_k**2\n",
    "L_KEP = 4 * np.pi * ((10*u.pc).to(u.cm)).value**2 * f_lambda * (filter_width_k)\n",
    "\n",
    "print('logL Kepler:',np.log10(L_KEP))"
   ]
  },
  {
   "cell_type": "code",
   "execution_count": 7,
   "metadata": {},
   "outputs": [
    {
     "name": "stdout",
     "output_type": "stream",
     "text": [
      "logL TESS: 31.06158213130478\n"
     ]
    }
   ],
   "source": [
    "# TESS, AB Mags\n",
    "pivot_wave_t = 7865. \n",
    "filter_width_t = 4000. # A\n",
    "\n",
    "f_nu = (10**((Tmag + 48.6)/ (-2.5)))\n",
    "f_lambda = f_nu * c / pivot_wave_t**2\n",
    "L_TESS = 4 * np.pi * ((10*u.pc).to(u.cm)).value**2 * f_lambda * (filter_width_t)\n",
    "print('logL TESS:',np.log10(L_TESS))"
   ]
  },
  {
   "cell_type": "code",
   "execution_count": 8,
   "metadata": {},
   "outputs": [],
   "source": [
    "'''\n",
    "# 0th mag TESS Flux, from Sullivan+2015: https://ui.adsabs.harvard.edu/abs/2015ApJ...809...77S/abstract\n",
    "Tf0 = 4.03e-6*u.erg/u.s/u.cm**2\n",
    "\n",
    "# 4pi x d^2 x Flux, using Absolute Mag from isochrone & 10pc\n",
    "L_TESS_wrong = 4 * np.pi * ((10*u.pc).to(u.cm))**2 * (10**(-Tmag/2.5)*Tf0)\n",
    "\n",
    "print('logL TESS:',np.log10(L_TESS_wrong.value)) ### WRONG - SHOULD BE AB Mags!\n",
    "''';"
   ]
  },
  {
   "cell_type": "code",
   "execution_count": null,
   "metadata": {},
   "outputs": [],
   "source": []
  },
  {
   "cell_type": "code",
   "execution_count": 9,
   "metadata": {},
   "outputs": [
    {
     "name": "stdout",
     "output_type": "stream",
     "text": [
      "30.678313568940734 31.06181847084391\n",
      "0.044994629988206025 0.03981422400683345\n"
     ]
    }
   ],
   "source": [
    "# let's do some quick gaussian errors...\n",
    "Num = 10000\n",
    "T_N = np.zeros(Num, dtype=np.float)\n",
    "K_N = np.zeros(Num, dtype=np.float)\n",
    "\n",
    "dist_n = np.random.normal(loc=10, scale=0.005, size=Num)\n",
    "g_n = np.random.normal(loc=g, scale=ge, size=Num)\n",
    "J_n = np.random.normal(loc=J, scale=Je, size=Num)\n",
    "\n",
    "Tmag_n = np.interp(g_n-J_n, df['gmag'].values[ok] - df['Jmag'].values[ok], df['TESSmag'].values[ok])\n",
    "Kmag_n = np.interp(g_n-J_n, df['gmag'].values[ok] - df['Jmag'].values[ok], df['Keplermag'].values[ok])\n",
    "\n",
    "# T_N = np.log10((4 * np.pi * ((dist_n*u.pc).to(u.cm).value)**2 * (10**(-Tmag_n/2.5)*Tf0.value)))\n",
    "\n",
    "f_nu = (10**((Kmag_n + 48.6)/ (-2.5)))\n",
    "f_lambda = f_nu * c / (pivot_wave_k)**2\n",
    "K_N = np.log10(4 * np.pi * ((dist_n*u.pc).to(u.cm)).value**2 * f_lambda * (filter_width_k))\n",
    "\n",
    "pivot_wave_t = 7865. \n",
    "filter_width_t = 4000. # A\n",
    "\n",
    "f_nu = (10**((Tmag_n + 48.6)/ (-2.5)))\n",
    "f_lambda = f_nu * c / pivot_wave_t**2\n",
    "T_N = np.log10(4 * np.pi * ((dist_n*u.pc).to(u.cm)).value**2 * f_lambda * (filter_width_t))\n",
    "# print('logL TESS:',np.log10(L_TESS))\n",
    "\n",
    "print(np.mean(K_N), np.mean(T_N))\n",
    "print(np.std(K_N), np.std(T_N))"
   ]
  },
  {
   "cell_type": "code",
   "execution_count": 10,
   "metadata": {},
   "outputs": [
    {
     "data": {
      "image/png": "[encoded data removed]",
      "text/plain": [
       "<Figure size 432x288 with 1 Axes>"
      ]
     },
     "metadata": {
      "needs_background": "light"
     },
     "output_type": "display_data"
    }
   ],
   "source": [
    "_ = plt.hist(T_N,bins=25, alpha=0.5)\n",
    "_ = plt.hist(K_N,bins=25, alpha=0.5)"
   ]
  },
  {
   "cell_type": "code",
   "execution_count": 11,
   "metadata": {},
   "outputs": [
    {
     "name": "stdout",
     "output_type": "stream",
     "text": [
      "0.31505799999999695\n",
      "0.38350490190317643\n"
     ]
    }
   ],
   "source": [
    "# The numbers used when submitted originally\n",
    "LUMIN =  30.352907 # updated version from my IDL code\n",
    "E_POINT =  30.037849  # updated version from my IDL Code\n",
    "\n",
    "print(LUMIN-E_POINT)\n",
    "print(np.mean(T_N) - np.mean(K_N))"
   ]
  },
  {
   "cell_type": "code",
   "execution_count": null,
   "metadata": {},
   "outputs": [],
   "source": []
  }
 ],
 "metadata": {
  "kernelspec": {
   "display_name": "Python 3",
   "language": "python",
   "name": "python3"
  },
  "language_info": {
   "codemirror_mode": {
    "name": "ipython",
    "version": 3
   },
   "file_extension": ".py",
   "mimetype": "text/x-python",
   "name": "python",
   "nbconvert_exporter": "python",
   "pygments_lexer": "ipython3",
   "version": "3.7.4"
  }
 },
 "nbformat": 4,
 "nbformat_minor": 4
}
